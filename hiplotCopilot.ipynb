{
 "cells": [
  {
   "cell_type": "code",
   "execution_count": 1,
   "outputs": [],
   "source": [
    "from llm.chatOpenAI import chat_openai\n",
    "from langchain.agents import initialize_agent, agent_types\n",
    "from tookits import data_processing\n",
    "\n",
    "llm = chat_openai() \n",
    "toolkit = data_processing.DataProcessingToolKit()\n",
    "agentType = agent_types.AgentType.STRUCTURED_CHAT_ZERO_SHOT_REACT_DESCRIPTION\n",
    "\n",
    "agent = initialize_agent(\n",
    "    llm=llm,\n",
    "    agent=agentType,\n",
    "    tools=toolkit.get_tools(),\n",
    "    verbose=True\n",
    ")"
   ],
   "metadata": {
    "collapsed": false,
    "ExecuteTime": {
     "end_time": "2023-11-10T08:36:13.560951700Z",
     "start_time": "2023-11-10T08:36:08.760045300Z"
    }
   },
   "id": "114105184f35341c"
  },
  {
   "cell_type": "code",
   "execution_count": 2,
   "outputs": [
    {
     "name": "stdout",
     "output_type": "stream",
     "text": [
      "\n",
      "\n",
      "\u001B[1m> Entering new AgentExecutor chain...\u001B[0m\n",
      "\u001B[32;1m\u001B[1;3mAction:\n",
      "```\n",
      "{\n",
      "  \"action\": \"discrete_mapping\",\n",
      "  \"action_input\": {\n",
      "    \"file_path\": \"data/thing.xlsx\",\n",
      "    \"manual_mapping_dict\": {\n",
      "      \"风化\": 0,\n",
      "      \"无风化\": 1\n",
      "    }\n",
      "  }\n",
      "}\n",
      "```\u001B[0m\n",
      "Observation: \u001B[36;1m\u001B[1;3mdata/tmp/thing_discrete_mapping_42ff05d6-8b95-49d0-8464-3d21246dee65.xlsx\u001B[0m\n",
      "\u001B[32;1m\u001B[1;3m\u001B[0m\n",
      "\n",
      "\u001B[1m> Finished chain.\u001B[0m\n"
     ]
    },
    {
     "data": {
      "text/plain": "'data/tmp/thing_discrete_mapping_42ff05d6-8b95-49d0-8464-3d21246dee65.xlsx'"
     },
     "execution_count": 2,
     "metadata": {},
     "output_type": "execute_result"
    }
   ],
   "source": [
    "agent.run(\"把data/thing.xlsx中值为风化和无风化的数据转化为数字\")"
   ],
   "metadata": {
    "collapsed": false,
    "ExecuteTime": {
     "end_time": "2023-11-10T08:36:23.164780700Z",
     "start_time": "2023-11-10T08:36:13.562456600Z"
    }
   },
   "id": "28c203568314747b"
  },
  {
   "cell_type": "code",
   "execution_count": 3,
   "outputs": [
    {
     "name": "stdout",
     "output_type": "stream",
     "text": [
      "\n",
      "\n",
      "\u001B[1m> Entering new AgentExecutor chain...\u001B[0m\n",
      "\u001B[32;1m\u001B[1;3mAction:\n",
      "```\n",
      "{\n",
      "  \"action\": \"discrete_mapping\",\n",
      "  \"action_input\": {\n",
      "    \"file_path\": \"data/thing.xlsx\",\n",
      "    \"manual_mapping_col\": [\"颜色\"]\n",
      "  }\n",
      "}\n",
      "```\u001B[0m\n",
      "Observation: \u001B[36;1m\u001B[1;3mdata/tmp/thing_discrete_mapping_3f1222ad-fa20-415d-86ce-53bc25d8823b.xlsx\u001B[0m\n",
      "\u001B[32;1m\u001B[1;3m\u001B[0m\n",
      "\n",
      "\u001B[1m> Finished chain.\u001B[0m\n"
     ]
    },
    {
     "data": {
      "text/plain": "'data/tmp/thing_discrete_mapping_3f1222ad-fa20-415d-86ce-53bc25d8823b.xlsx'"
     },
     "execution_count": 3,
     "metadata": {},
     "output_type": "execute_result"
    }
   ],
   "source": [
    "agent.run(\"帮我把data/thing.xlsx文件中名为颜色的列映射成数字\")"
   ],
   "metadata": {
    "collapsed": false,
    "ExecuteTime": {
     "end_time": "2023-11-10T08:36:29.971141500Z",
     "start_time": "2023-11-10T08:36:23.163768400Z"
    }
   },
   "id": "d9ce8588f2a04494"
  },
  {
   "cell_type": "code",
   "execution_count": 4,
   "outputs": [
    {
     "name": "stdout",
     "output_type": "stream",
     "text": [
      "\n",
      "\n",
      "\u001B[1m> Entering new AgentExecutor chain...\u001B[0m\n",
      "\u001B[32;1m\u001B[1;3mAction:\n",
      "```\n",
      "{\n",
      "  \"action\": \"discrete_mapping\",\n",
      "  \"action_input\": {\n",
      "    \"file_path\": \"data/thing.xlsx\"\n",
      "  }\n",
      "}\n",
      "```\u001B[0m\n",
      "Observation: \u001B[36;1m\u001B[1;3mdata/tmp/thing_discrete_mapping_acf8baff-f9ec-43b8-a210-45fbec118b30.xlsx\u001B[0m\n",
      "\u001B[32;1m\u001B[1;3m\u001B[0m\n",
      "\n",
      "\u001B[1m> Finished chain.\u001B[0m\n"
     ]
    },
    {
     "data": {
      "text/plain": "'data/tmp/thing_discrete_mapping_acf8baff-f9ec-43b8-a210-45fbec118b30.xlsx'"
     },
     "execution_count": 4,
     "metadata": {},
     "output_type": "execute_result"
    }
   ],
   "source": [
    "agent.run(\"将data/thing.xlsx中的非数字类型转化为数字\")"
   ],
   "metadata": {
    "collapsed": false,
    "ExecuteTime": {
     "end_time": "2023-11-10T08:36:51.534918900Z",
     "start_time": "2023-11-10T08:36:29.970139100Z"
    }
   },
   "id": "d24d93cc45d4dd7d"
  },
  {
   "cell_type": "code",
   "execution_count": 5,
   "outputs": [
    {
     "name": "stdout",
     "output_type": "stream",
     "text": [
      "\n",
      "\n",
      "\u001B[1m> Entering new AgentExecutor chain...\u001B[0m\n",
      "\u001B[32;1m\u001B[1;3mAction:\n",
      "```\n",
      "{\n",
      "  \"action\": \"Missing padding\",\n",
      "  \"action_input\": {\n",
      "    \"file_path\": \"data/iris.xlsx\",\n",
      "    \"padding_type\": 1\n",
      "  }\n",
      "}\n",
      "```\u001B[0m\n",
      "Observation: \u001B[33;1m\u001B[1;3mdata/tmp/iris_missing_padding_3050260f-7e3b-492b-ac28-6cfad77e6989.xlsx\u001B[0m\n",
      "Thought:\u001B[32;1m\u001B[1;3mThe missing values in the \"data/iris.xlsx\" file have been filled with zeros. Here is the updated file: \"data/tmp/iris_missing_padding_3050260f-7e3b-492b-ac28-6cfad77e6989.xlsx\". How else can I assist you?\u001B[0m\n",
      "\n",
      "\u001B[1m> Finished chain.\u001B[0m\n"
     ]
    },
    {
     "data": {
      "text/plain": "'The missing values in the \"data/iris.xlsx\" file have been filled with zeros. Here is the updated file: \"data/tmp/iris_missing_padding_3050260f-7e3b-492b-ac28-6cfad77e6989.xlsx\". How else can I assist you?'"
     },
     "execution_count": 5,
     "metadata": {},
     "output_type": "execute_result"
    }
   ],
   "source": [
    "agent.run(\"给data/iris.xlsx文件中的缺失值填充为0\")"
   ],
   "metadata": {
    "collapsed": false,
    "ExecuteTime": {
     "end_time": "2023-11-10T08:37:11.891263400Z",
     "start_time": "2023-11-10T08:36:51.533888700Z"
    }
   },
   "id": "d27a5e7dc5a249e0"
  },
  {
   "cell_type": "code",
   "execution_count": 6,
   "outputs": [
    {
     "name": "stdout",
     "output_type": "stream",
     "text": [
      "\n",
      "\n",
      "\u001B[1m> Entering new AgentExecutor chain...\u001B[0m\n",
      "\u001B[32;1m\u001B[1;3mAction:\n",
      "```\n",
      "{\n",
      "  \"action\": \"Missing padding\",\n",
      "  \"action_input\": {\n",
      "    \"file_path\": \"data/iris.xlsx\",\n",
      "    \"padding_col\": [\"sepal_width\"],\n",
      "    \"padding_type\": 2\n",
      "  }\n",
      "}\n",
      "```\u001B[0m\n",
      "Observation: \u001B[33;1m\u001B[1;3mdata/tmp/iris_missing_padding_b1bbf01a-2ad8-4de2-83cb-ece8d47901b8.xlsx\u001B[0m\n",
      "Thought:\u001B[32;1m\u001B[1;3m你可以在这里下载填充了平均值的文件：[iris_missing_padding_b1bbf01a-2ad8-4de2-83cb-ece8d47901b8.xlsx](sandbox:/data/tmp/iris_missing_padding_b1bbf01a-2ad8-4de2-83cb-ece8d47901b8.xlsx)\u001B[0m\n",
      "\n",
      "\u001B[1m> Finished chain.\u001B[0m\n"
     ]
    },
    {
     "data": {
      "text/plain": "'你可以在这里下载填充了平均值的文件：[iris_missing_padding_b1bbf01a-2ad8-4de2-83cb-ece8d47901b8.xlsx](sandbox:/data/tmp/iris_missing_padding_b1bbf01a-2ad8-4de2-83cb-ece8d47901b8.xlsx)'"
     },
     "execution_count": 6,
     "metadata": {},
     "output_type": "execute_result"
    }
   ],
   "source": [
    "agent.run(\"帮我把data/iris.xlsx数据中sepal_width列的缺失值填充为平均值\")"
   ],
   "metadata": {
    "collapsed": false,
    "ExecuteTime": {
     "end_time": "2023-11-10T08:37:37.909448600Z",
     "start_time": "2023-11-10T08:37:11.890754200Z"
    }
   },
   "id": "78c38c99909d1c89"
  },
  {
   "cell_type": "code",
   "execution_count": null,
   "outputs": [],
   "source": [],
   "metadata": {
    "collapsed": false
   },
   "id": "eb5262be0bf7c883"
  }
 ],
 "metadata": {
  "kernelspec": {
   "display_name": "Python 3 (ipykernel)",
   "language": "python",
   "name": "python3"
  },
  "language_info": {
   "codemirror_mode": {
    "name": "ipython",
    "version": 3
   },
   "file_extension": ".py",
   "mimetype": "text/x-python",
   "name": "python",
   "nbconvert_exporter": "python",
   "pygments_lexer": "ipython3",
   "version": "3.9.13"
  }
 },
 "nbformat": 4,
 "nbformat_minor": 5
}
