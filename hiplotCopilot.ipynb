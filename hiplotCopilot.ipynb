{
 "cells": [
  {
   "cell_type": "code",
   "execution_count": 1,
   "outputs": [],
   "source": [
    "from llm.chatOpenAI import chat_openai\n",
    "from langchain.agents import initialize_agent, agent_types\n",
    "from tookits import data_processing\n",
    "\n",
    "llm = chat_openai() \n",
    "toolkit = data_processing.DataProcessingToolKit()\n",
    "agentType = agent_types.AgentType.STRUCTURED_CHAT_ZERO_SHOT_REACT_DESCRIPTION\n",
    "\n",
    "agent = initialize_agent(\n",
    "    llm=llm,\n",
    "    agent=agentType,\n",
    "    tools=toolkit.get_tools(),\n",
    "    verbose=True\n",
    ")"
   ],
   "metadata": {
    "collapsed": false,
    "ExecuteTime": {
     "end_time": "2023-09-26T14:20:34.509236700Z",
     "start_time": "2023-09-26T14:20:31.723579700Z"
    }
   },
   "id": "78944d5ab68f1436"
  },
  {
   "cell_type": "code",
   "execution_count": 2,
   "outputs": [
    {
     "name": "stdout",
     "output_type": "stream",
     "text": [
      "\n",
      "\n",
      "\u001B[1m> Entering new AgentExecutor chain...\u001B[0m\n",
      "\u001B[32;1m\u001B[1;3mAction:\n",
      "```\n",
      "{\n",
      "  \"action\": \"discrete_mapping\",\n",
      "  \"action_input\": {\n",
      "    \"file_path\": \"data/thing.xlsx\",\n",
      "    \"manual_mapping_dict\": {\n",
      "      \"风化\": 1,\n",
      "      \"无风化\": 0\n",
      "    },\n",
      "    \"manual_mapping_col\": [\"Column Name\"]\n",
      "  }\n",
      "}\n",
      "```\u001B[0m\n",
      "Observation: \u001B[36;1m\u001B[1;3mdata/tmp/thing_discrete_mapping_77668646-a318-47b5-836e-f7445686e042.xlsx\u001B[0m\n",
      "\u001B[32;1m\u001B[1;3m\u001B[0m\n",
      "\n",
      "\u001B[1m> Finished chain.\u001B[0m\n"
     ]
    },
    {
     "data": {
      "text/plain": "'data/tmp/thing_discrete_mapping_77668646-a318-47b5-836e-f7445686e042.xlsx'"
     },
     "execution_count": 2,
     "metadata": {},
     "output_type": "execute_result"
    }
   ],
   "source": [
    "agent.run(\"help me convert data/thing.xlsx 风化 and 无风化 to number type, tell me output path\")"
   ],
   "metadata": {
    "collapsed": false,
    "ExecuteTime": {
     "end_time": "2023-09-26T14:19:32.672267700Z",
     "start_time": "2023-09-26T14:19:27.506760500Z"
    }
   },
   "id": "28c203568314747b"
  },
  {
   "cell_type": "code",
   "execution_count": 3,
   "outputs": [
    {
     "name": "stdout",
     "output_type": "stream",
     "text": [
      "\n",
      "\n",
      "\u001B[1m> Entering new AgentExecutor chain...\u001B[0m\n",
      "\u001B[32;1m\u001B[1;3mAction:\n",
      "```\n",
      "{\n",
      "  \"action\": \"discrete_mapping\",\n",
      "  \"action_input\": {\n",
      "    \"file_path\": \"data/thing.xlsx\",\n",
      "    \"manual_mapping_col\": [\"颜色\"]\n",
      "  }\n",
      "}\n",
      "```\u001B[0m\n",
      "Observation: \u001B[36;1m\u001B[1;3mdata/tmp/thing_discrete_mapping_13b4ce4f-90e8-422e-bed9-454852f79d95.xlsx\u001B[0m\n",
      "\u001B[32;1m\u001B[1;3m\u001B[0m\n",
      "\n",
      "\u001B[1m> Finished chain.\u001B[0m\n"
     ]
    },
    {
     "data": {
      "text/plain": "'data/tmp/thing_discrete_mapping_13b4ce4f-90e8-422e-bed9-454852f79d95.xlsx'"
     },
     "execution_count": 3,
     "metadata": {},
     "output_type": "execute_result"
    }
   ],
   "source": [
    "agent.run(\"帮我把data/thing.xlsx文件中的颜色列映射成数字\")"
   ],
   "metadata": {
    "collapsed": false,
    "ExecuteTime": {
     "end_time": "2023-09-26T14:20:58.837316400Z",
     "start_time": "2023-09-26T14:20:55.757084600Z"
    }
   },
   "id": "d9ce8588f2a04494"
  },
  {
   "cell_type": "code",
   "execution_count": 4,
   "outputs": [
    {
     "name": "stdout",
     "output_type": "stream",
     "text": [
      "\n",
      "\n",
      "\u001B[1m> Entering new AgentExecutor chain...\u001B[0m\n",
      "\u001B[32;1m\u001B[1;3mAction:\n",
      "```\n",
      "{\n",
      "  \"action\": \"discrete_mapping\",\n",
      "  \"action_input\": {\n",
      "    \"file_path\": \"data/thing.xlsx\"\n",
      "  }\n",
      "}\n",
      "```\u001B[0m\n",
      "Observation: \u001B[36;1m\u001B[1;3mdata/tmp/thing_discrete_mapping_9b6bb09b-4efc-4607-8525-ea4ec15621a8.xlsx\u001B[0m\n",
      "\u001B[32;1m\u001B[1;3m\u001B[0m\n",
      "\n",
      "\u001B[1m> Finished chain.\u001B[0m\n"
     ]
    },
    {
     "data": {
      "text/plain": "'data/tmp/thing_discrete_mapping_9b6bb09b-4efc-4607-8525-ea4ec15621a8.xlsx'"
     },
     "execution_count": 4,
     "metadata": {},
     "output_type": "execute_result"
    }
   ],
   "source": [
    "agent.run(\"将data/thing.xlsx中的非数字类型转化为数字\")"
   ],
   "metadata": {
    "collapsed": false,
    "ExecuteTime": {
     "end_time": "2023-09-26T14:19:47.485427600Z",
     "start_time": "2023-09-26T14:19:45.059425700Z"
    }
   },
   "id": "d24d93cc45d4dd7d"
  },
  {
   "cell_type": "code",
   "execution_count": null,
   "outputs": [],
   "source": [],
   "metadata": {
    "collapsed": false
   },
   "id": "d27a5e7dc5a249e0"
  }
 ],
 "metadata": {
  "kernelspec": {
   "display_name": "Python 3 (ipykernel)",
   "language": "python",
   "name": "python3"
  },
  "language_info": {
   "codemirror_mode": {
    "name": "ipython",
    "version": 3
   },
   "file_extension": ".py",
   "mimetype": "text/x-python",
   "name": "python",
   "nbconvert_exporter": "python",
   "pygments_lexer": "ipython3",
   "version": "3.9.13"
  }
 },
 "nbformat": 4,
 "nbformat_minor": 5
}
