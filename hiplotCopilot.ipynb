{
 "cells": [
  {
   "cell_type": "code",
   "execution_count": 1,
   "outputs": [],
   "source": [
    "from llm.chatOpenAI import chat_openai\n",
    "from langchain.agents import initialize_agent, agent_types\n",
    "from tookits import data_processing\n",
    "\n",
    "llm = chat_openai() \n",
    "toolkit = data_processing.DataProcessingToolKit()\n",
    "agentType = agent_types.AgentType.STRUCTURED_CHAT_ZERO_SHOT_REACT_DESCRIPTION\n",
    "\n",
    "agent = initialize_agent(\n",
    "    llm=llm,\n",
    "    agent=agentType,\n",
    "    tools=toolkit.get_tools(),\n",
    "    verbose=True\n",
    ")"
   ],
   "metadata": {
    "collapsed": false,
    "ExecuteTime": {
     "end_time": "2023-09-27T14:18:12.535291300Z",
     "start_time": "2023-09-27T14:18:09.680566900Z"
    }
   },
   "id": "78944d5ab68f1436"
  },
  {
   "cell_type": "code",
   "execution_count": 2,
   "outputs": [
    {
     "name": "stdout",
     "output_type": "stream",
     "text": [
      "\n",
      "\n",
      "\u001B[1m> Entering new AgentExecutor chain...\u001B[0m\n",
      "\u001B[32;1m\u001B[1;3mAction:\n",
      "```\n",
      "{\n",
      "  \"action\": \"discrete_mapping\",\n",
      "  \"action_input\": {\n",
      "    \"file_path\": \"data/thing.xlsx\",\n",
      "    \"manual_mapping_dict\": {\n",
      "      \"风化\": 1,\n",
      "      \"无风化\": 0\n",
      "    }\n",
      "  }\n",
      "}\n",
      "```\u001B[0m\n",
      "Observation: \u001B[36;1m\u001B[1;3mdata/tmp/thing_discrete_mapping_b3ba7527-2771-4f81-b378-5239026d8b7e.xlsx\u001B[0m\n",
      "\u001B[32;1m\u001B[1;3m\u001B[0m\n",
      "\n",
      "\u001B[1m> Finished chain.\u001B[0m\n"
     ]
    },
    {
     "data": {
      "text/plain": "'data/tmp/thing_discrete_mapping_b3ba7527-2771-4f81-b378-5239026d8b7e.xlsx'"
     },
     "execution_count": 2,
     "metadata": {},
     "output_type": "execute_result"
    }
   ],
   "source": [
    "agent.run(\"把data/thing.xlsx中值为风化和无风化的数据转化为数字\")"
   ],
   "metadata": {
    "collapsed": false,
    "ExecuteTime": {
     "end_time": "2023-09-27T07:11:58.569611600Z",
     "start_time": "2023-09-27T07:11:53.241649800Z"
    }
   },
   "id": "28c203568314747b"
  },
  {
   "cell_type": "code",
   "execution_count": 5,
   "outputs": [
    {
     "name": "stdout",
     "output_type": "stream",
     "text": [
      "\n",
      "\n",
      "\u001B[1m> Entering new AgentExecutor chain...\u001B[0m\n",
      "\u001B[32;1m\u001B[1;3mAction:\n",
      "```\n",
      "{\n",
      "  \"action\": \"discrete_mapping\",\n",
      "  \"action_input\": {\n",
      "    \"file_path\": \"data/thing.xlsx\",\n",
      "    \"manual_mapping_col\": [\"颜色\"]\n",
      "  }\n",
      "}\n",
      "```\u001B[0m\n",
      "Observation: \u001B[36;1m\u001B[1;3mdata/tmp/thing_discrete_mapping_f7056c6a-ad93-4eb6-819b-cd1198e1fa17.xlsx\u001B[0m\n",
      "\u001B[32;1m\u001B[1;3m\u001B[0m\n",
      "\n",
      "\u001B[1m> Finished chain.\u001B[0m\n"
     ]
    },
    {
     "data": {
      "text/plain": "'data/tmp/thing_discrete_mapping_f7056c6a-ad93-4eb6-819b-cd1198e1fa17.xlsx'"
     },
     "execution_count": 5,
     "metadata": {},
     "output_type": "execute_result"
    }
   ],
   "source": [
    "agent.run(\"帮我把data/thing.xlsx文件中名为颜色的列映射成数字\")"
   ],
   "metadata": {
    "collapsed": false,
    "ExecuteTime": {
     "end_time": "2023-09-27T07:12:59.129991600Z",
     "start_time": "2023-09-27T07:12:54.858135400Z"
    }
   },
   "id": "d9ce8588f2a04494"
  },
  {
   "cell_type": "code",
   "execution_count": 4,
   "outputs": [
    {
     "name": "stdout",
     "output_type": "stream",
     "text": [
      "\n",
      "\n",
      "\u001B[1m> Entering new AgentExecutor chain...\u001B[0m\n",
      "\u001B[32;1m\u001B[1;3mAction:\n",
      "```\n",
      "{\n",
      "  \"action\": \"discrete_mapping\",\n",
      "  \"action_input\": {\n",
      "    \"file_path\": \"data/thing.xlsx\"\n",
      "  }\n",
      "}\n",
      "```\u001B[0m\n",
      "Observation: \u001B[36;1m\u001B[1;3mdata/tmp/thing_discrete_mapping_462689aa-1454-43ff-b1d6-e216f3b517ea.xlsx\u001B[0m\n",
      "\u001B[32;1m\u001B[1;3m\u001B[0m\n",
      "\n",
      "\u001B[1m> Finished chain.\u001B[0m\n"
     ]
    },
    {
     "data": {
      "text/plain": "'data/tmp/thing_discrete_mapping_462689aa-1454-43ff-b1d6-e216f3b517ea.xlsx'"
     },
     "execution_count": 4,
     "metadata": {},
     "output_type": "execute_result"
    }
   ],
   "source": [
    "agent.run(\"将data/thing.xlsx中的非数字类型转化为数字\")"
   ],
   "metadata": {
    "collapsed": false,
    "ExecuteTime": {
     "end_time": "2023-09-27T07:12:06.233155Z",
     "start_time": "2023-09-27T07:12:03.930023700Z"
    }
   },
   "id": "d24d93cc45d4dd7d"
  },
  {
   "cell_type": "code",
   "execution_count": 2,
   "outputs": [
    {
     "name": "stdout",
     "output_type": "stream",
     "text": [
      "\n",
      "\n",
      "\u001B[1m> Entering new AgentExecutor chain...\u001B[0m\n",
      "\u001B[32;1m\u001B[1;3mAction:\n",
      "```\n",
      "{\n",
      "  \"action\": \"Missing padding\",\n",
      "  \"action_input\": {\n",
      "    \"file_path\": \"data/iris.xlsx\",\n",
      "    \"padding_type\": 1\n",
      "  }\n",
      "}\n",
      "```\u001B[0m\n",
      "Observation: \u001B[33;1m\u001B[1;3mdata/tmp/iris_missing_padding_94d53952-7b33-4a9a-823f-dca3e5c19946.xlsx\u001B[0m\n",
      "Thought:\u001B[32;1m\u001B[1;3mThe missing values in the \"data/iris.xlsx\" file have been filled with zeros. Here is the updated file: \"data/tmp/iris_missing_padding_94d53952-7b33-4a9a-823f-dca3e5c19946.xlsx\". How else can I assist you?\u001B[0m\n",
      "\n",
      "\u001B[1m> Finished chain.\u001B[0m\n"
     ]
    },
    {
     "data": {
      "text/plain": "'The missing values in the \"data/iris.xlsx\" file have been filled with zeros. Here is the updated file: \"data/tmp/iris_missing_padding_94d53952-7b33-4a9a-823f-dca3e5c19946.xlsx\". How else can I assist you?'"
     },
     "execution_count": 2,
     "metadata": {},
     "output_type": "execute_result"
    }
   ],
   "source": [
    "agent.run(\"给data/iris.xlsx文件中的缺失值填充为0\")"
   ],
   "metadata": {
    "collapsed": false,
    "ExecuteTime": {
     "end_time": "2023-09-27T14:18:20.694680Z",
     "start_time": "2023-09-27T14:18:12.536291500Z"
    }
   },
   "id": "d27a5e7dc5a249e0"
  },
  {
   "cell_type": "code",
   "execution_count": 3,
   "outputs": [
    {
     "name": "stdout",
     "output_type": "stream",
     "text": [
      "\n",
      "\n",
      "\u001B[1m> Entering new AgentExecutor chain...\u001B[0m\n",
      "\u001B[32;1m\u001B[1;3mAction:\n",
      "```\n",
      "{\n",
      "  \"action\": \"Missing padding\",\n",
      "  \"action_input\": {\n",
      "    \"file_path\": \"data/iris.xlsx\",\n",
      "    \"padding_col\": [\"sepal_width\"],\n",
      "    \"padding_type\": 2\n",
      "  }\n",
      "}\n",
      "```\u001B[0m\n",
      "Observation: \u001B[33;1m\u001B[1;3mdata/tmp/iris_missing_padding_4f237ee4-afe4-4f57-899f-26abca59c0fe.xlsx\u001B[0m\n",
      "Thought:\u001B[32;1m\u001B[1;3m你可以在这里下载填充了平均值的文件：[iris_missing_padding_4f237ee4-afe4-4f57-899f-26abca59c0fe.xlsx](sandbox:/data/tmp/iris_missing_padding_4f237ee4-afe4-4f57-899f-26abca59c0fe.xlsx)\u001B[0m\n",
      "\n",
      "\u001B[1m> Finished chain.\u001B[0m\n"
     ]
    },
    {
     "data": {
      "text/plain": "'你可以在这里下载填充了平均值的文件：[iris_missing_padding_4f237ee4-afe4-4f57-899f-26abca59c0fe.xlsx](sandbox:/data/tmp/iris_missing_padding_4f237ee4-afe4-4f57-899f-26abca59c0fe.xlsx)'"
     },
     "execution_count": 3,
     "metadata": {},
     "output_type": "execute_result"
    }
   ],
   "source": [
    "agent.run(\"帮我把data/iris.xlsx数据中sepal_width列的缺失值填充为平均值\")"
   ],
   "metadata": {
    "collapsed": false,
    "ExecuteTime": {
     "end_time": "2023-09-27T14:18:28.318618100Z",
     "start_time": "2023-09-27T14:18:20.695690200Z"
    }
   },
   "id": "78c38c99909d1c89"
  },
  {
   "cell_type": "code",
   "execution_count": null,
   "outputs": [],
   "source": [],
   "metadata": {
    "collapsed": false
   },
   "id": "eb5262be0bf7c883"
  }
 ],
 "metadata": {
  "kernelspec": {
   "display_name": "Python 3 (ipykernel)",
   "language": "python",
   "name": "python3"
  },
  "language_info": {
   "codemirror_mode": {
    "name": "ipython",
    "version": 3
   },
   "file_extension": ".py",
   "mimetype": "text/x-python",
   "name": "python",
   "nbconvert_exporter": "python",
   "pygments_lexer": "ipython3",
   "version": "3.9.13"
  }
 },
 "nbformat": 4,
 "nbformat_minor": 5
}
