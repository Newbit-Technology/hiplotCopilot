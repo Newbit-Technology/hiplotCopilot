{
 "cells": [
  {
   "cell_type": "code",
   "execution_count": 1,
   "outputs": [],
   "source": [
    "from pipeline.preprocess import hiplot_preprocess_pipeline"
   ],
   "metadata": {
    "collapsed": false,
    "ExecuteTime": {
     "end_time": "2023-11-14T08:32:14.233620400Z",
     "start_time": "2023-11-14T08:32:10.456217400Z"
    }
   },
   "id": "114105184f35341c"
  },
  {
   "cell_type": "code",
   "execution_count": 4,
   "outputs": [
    {
     "data": {
      "text/plain": "'data/tmp/thing_discrete_mapping_8380f812-a986-4801-84e7-c92aad71eab4.xlsx'"
     },
     "execution_count": 4,
     "metadata": {},
     "output_type": "execute_result"
    }
   ],
   "source": "",
   "metadata": {
    "collapsed": false,
    "ExecuteTime": {
     "end_time": "2023-11-14T08:32:33.155322900Z",
     "start_time": "2023-11-14T08:32:29.851078400Z"
    }
   },
   "id": "28c203568314747b"
  },
  {
   "cell_type": "code",
   "execution_count": 3,
   "outputs": [
    {
     "data": {
      "text/plain": "'data/tmp/thing_discrete_mapping_708acd55-d236-4616-abe1-7f2c18156c46.xlsx'"
     },
     "execution_count": 3,
     "metadata": {},
     "output_type": "execute_result"
    }
   ],
   "source": "hiplot_preprocess_pipeline(\"帮我把data/thing.xlsx文件中名为颜色的列映射成数字\").get()[0]",
   "metadata": {
    "collapsed": false,
    "ExecuteTime": {
     "end_time": "2023-11-14T08:32:27.227872400Z",
     "start_time": "2023-11-14T08:32:17.391322Z"
    }
   },
   "id": "d9ce8588f2a04494"
  },
  {
   "cell_type": "code",
   "execution_count": 5,
   "outputs": [
    {
     "data": {
      "text/plain": "'data/tmp/thing_discrete_mapping_14c9ae60-3e76-4792-a501-2dee727627db.xlsx'"
     },
     "execution_count": 5,
     "metadata": {},
     "output_type": "execute_result"
    }
   ],
   "source": [
    "hiplot_preprocess_pipeline(\"将data/thing.xlsx中的非数字类型转化为数字\").get()[0]"
   ],
   "metadata": {
    "collapsed": false,
    "ExecuteTime": {
     "end_time": "2023-11-14T08:33:11.047499400Z",
     "start_time": "2023-11-14T08:32:59.885851100Z"
    }
   },
   "id": "d24d93cc45d4dd7d"
  },
  {
   "cell_type": "code",
   "execution_count": 6,
   "outputs": [
    {
     "data": {
      "text/plain": "'The missing values in the \"data/iris.xlsx\" file have been filled with zeros. Here is the updated file: \"data/tmp/iris_missing_padding_f1337739-9f2a-4453-8f3b-4fda5a3e4d8d.xlsx\". How else can I assist you?'"
     },
     "execution_count": 6,
     "metadata": {},
     "output_type": "execute_result"
    }
   ],
   "source": [
    "hiplot_preprocess_pipeline(\"给data/iris.xlsx文件中的缺失值填充为0\").get()[0]"
   ],
   "metadata": {
    "collapsed": false,
    "ExecuteTime": {
     "end_time": "2023-11-14T08:33:28.867487300Z",
     "start_time": "2023-11-14T08:33:11.046291500Z"
    }
   },
   "id": "d27a5e7dc5a249e0"
  },
  {
   "cell_type": "code",
   "execution_count": 7,
   "outputs": [
    {
     "data": {
      "text/plain": "'你可以在这里下载填充了平均值的文件：[iris_missing_padding_878eebf3-c2df-41a8-85fd-3ed5f7f71da1.xlsx](sandbox:/data/tmp/iris_missing_padding_878eebf3-c2df-41a8-85fd-3ed5f7f71da1.xlsx)'"
     },
     "execution_count": 7,
     "metadata": {},
     "output_type": "execute_result"
    }
   ],
   "source": [
    "hiplot_preprocess_pipeline(\"帮我把data/iris.xlsx数据中sepal_width列的缺失值填充为平均值\").get()[0]"
   ],
   "metadata": {
    "collapsed": false,
    "ExecuteTime": {
     "end_time": "2023-11-14T08:33:51.638481700Z",
     "start_time": "2023-11-14T08:33:28.866485300Z"
    }
   },
   "id": "78c38c99909d1c89"
  }
 ],
 "metadata": {
  "kernelspec": {
   "display_name": "Python 3 (ipykernel)",
   "language": "python",
   "name": "python3"
  },
  "language_info": {
   "codemirror_mode": {
    "name": "ipython",
    "version": 3
   },
   "file_extension": ".py",
   "mimetype": "text/x-python",
   "name": "python",
   "nbconvert_exporter": "python",
   "pygments_lexer": "ipython3",
   "version": "3.9.13"
  }
 },
 "nbformat": 4,
 "nbformat_minor": 5
}
