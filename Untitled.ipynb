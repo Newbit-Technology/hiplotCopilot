{
 "cells": [
  {
   "cell_type": "code",
   "execution_count": 1,
   "id": "58ebd75d",
   "metadata": {
    "ExecuteTime": {
     "end_time": "2023-09-17T06:59:18.731801400Z",
     "start_time": "2023-09-17T06:59:18.713701200Z"
    }
   },
   "outputs": [],
   "source": [
    "# 加载.env中的变量 包含OPENAI_API_KEY和OPENAI_API_BASE\n",
    "from dotenv import load_dotenv, find_dotenv\n",
    "\n",
    "_ = load_dotenv(find_dotenv())"
   ]
  },
  {
   "cell_type": "code",
   "execution_count": 2,
   "outputs": [],
   "source": [
    "from tools.tool import get_all_tools\n",
    "from llm.chatOpenAI import chat_openai\n",
    "from langchain.agents import initialize_agent, agent_types\n",
    "\n",
    "llm = chat_openai() \n",
    "tools = get_all_tools()\n",
    "agentType = agent_types.AgentType.STRUCTURED_CHAT_ZERO_SHOT_REACT_DESCRIPTION\n",
    "\n",
    "agent = initialize_agent(\n",
    "    llm=llm,\n",
    "    agent=agentType,\n",
    "    tools=tools,\n",
    "    verbose=True\n",
    ")"
   ],
   "metadata": {
    "collapsed": false,
    "ExecuteTime": {
     "end_time": "2023-09-17T06:59:22.983531900Z",
     "start_time": "2023-09-17T06:59:18.732811700Z"
    }
   },
   "id": "78944d5ab68f1436"
  },
  {
   "cell_type": "code",
   "execution_count": 3,
   "outputs": [
    {
     "name": "stdout",
     "output_type": "stream",
     "text": [
      "\n",
      "\n",
      "\u001B[1m> Entering new AgentExecutor chain...\u001B[0m\n",
      "\u001B[32;1m\u001B[1;3m这是一个数学计算问题，我可以使用Python来计算3.14的七次方。\u001B[0m\n",
      "\n",
      "\u001B[1m> Finished chain.\u001B[0m\n"
     ]
    },
    {
     "data": {
      "text/plain": "'这是一个数学计算问题，我可以使用Python来计算3.14的七次方。'"
     },
     "execution_count": 3,
     "metadata": {},
     "output_type": "execute_result"
    }
   ],
   "source": [
    "agent.run(\"告诉我3.14的七次方的结果\")"
   ],
   "metadata": {
    "collapsed": false,
    "ExecuteTime": {
     "end_time": "2023-09-17T06:59:27.688382800Z",
     "start_time": "2023-09-17T06:59:25.208137600Z"
    }
   },
   "id": "8124d49a84ce25d4"
  },
  {
   "cell_type": "code",
   "execution_count": 4,
   "outputs": [
    {
     "name": "stdout",
     "output_type": "stream",
     "text": [
      "\n",
      "\n",
      "\u001B[1m> Entering new AgentExecutor chain...\u001B[0m\n",
      "\u001B[32;1m\u001B[1;3m这个任务可以使用discrete_mapping工具来完成。我将使用该工具来将\"data/thing.xlsx\"文件中的\"蓝绿\"映射为\"10\"。请稍等片刻。\u001B[0m\n",
      "\n",
      "\u001B[1m> Finished chain.\u001B[0m\n"
     ]
    },
    {
     "data": {
      "text/plain": "'这个任务可以使用discrete_mapping工具来完成。我将使用该工具来将\"data/thing.xlsx\"文件中的\"蓝绿\"映射为\"10\"。请稍等片刻。'"
     },
     "execution_count": 4,
     "metadata": {},
     "output_type": "execute_result"
    }
   ],
   "source": [
    "agent.run(\"把data/thing.xlsx数据中的把蓝绿改为10\")"
   ],
   "metadata": {
    "collapsed": false,
    "ExecuteTime": {
     "end_time": "2023-09-17T06:59:30.186340800Z",
     "start_time": "2023-09-17T06:59:27.685386Z"
    }
   },
   "id": "923b53d5ce914850"
  },
  {
   "cell_type": "code",
   "execution_count": 5,
   "outputs": [
    {
     "name": "stdout",
     "output_type": "stream",
     "text": [
      "\n",
      "\n",
      "\u001B[1m> Entering new AgentExecutor chain...\u001B[0m\n",
      "\u001B[32;1m\u001B[1;3mTo convert the values \"风化\" and \"无风化\" in the Excel file \"data/thing.xlsx\" to number type, we can use the discrete_mapping tool. This tool will create a new Excel file with the converted values and provide the output path.\n",
      "\n",
      "Action:\n",
      "```\n",
      "{\n",
      "  \"action\": \"discrete_mapping\",\n",
      "  \"action_input\": {\n",
      "    \"file_path\": \"data/thing.xlsx\",\n",
      "    \"manual_mapping_dict\": {\"风化\": 1, \"无风化\": 0}\n",
      "  }\n",
      "}\n",
      "```\n",
      "\n",
      "\u001B[0m\n",
      "Observation: \u001B[33;1m\u001B[1;3mdata/tmp/thing_discrete_mapping_98cdd65d-1c2e-43ea-b6ab-5e17dd1b6642.xlsx\u001B[0m\n",
      "\u001B[32;1m\u001B[1;3m\u001B[0m\n",
      "\n",
      "\u001B[1m> Finished chain.\u001B[0m\n"
     ]
    },
    {
     "data": {
      "text/plain": "'data/tmp/thing_discrete_mapping_98cdd65d-1c2e-43ea-b6ab-5e17dd1b6642.xlsx'"
     },
     "execution_count": 5,
     "metadata": {},
     "output_type": "execute_result"
    }
   ],
   "source": [
    "agent.run(\"help me convert data/thing.xlsx 风化 and 无风化 to number type, tell me output path\")"
   ],
   "metadata": {
    "collapsed": false,
    "ExecuteTime": {
     "end_time": "2023-09-17T06:59:35.681587900Z",
     "start_time": "2023-09-17T06:59:30.184822300Z"
    }
   },
   "id": "28c203568314747b"
  },
  {
   "cell_type": "code",
   "execution_count": 6,
   "outputs": [
    {
     "name": "stdout",
     "output_type": "stream",
     "text": [
      "\n",
      "\n",
      "\u001B[1m> Entering new AgentExecutor chain...\u001B[0m\n",
      "\u001B[32;1m\u001B[1;3m我可以使用`discrete_mapping`工具来将Excel文件中的颜色列转换为数字类型。我将使用默认的映射字典来将颜色值映射为数字。让我运行一下这个工具。\u001B[0m\n",
      "\n",
      "\u001B[1m> Finished chain.\u001B[0m\n"
     ]
    },
    {
     "data": {
      "text/plain": "'我可以使用`discrete_mapping`工具来将Excel文件中的颜色列转换为数字类型。我将使用默认的映射字典来将颜色值映射为数字。让我运行一下这个工具。'"
     },
     "execution_count": 6,
     "metadata": {},
     "output_type": "execute_result"
    }
   ],
   "source": [
    "agent.run(\"把data/thing.xlsx数据中颜色列变成数字类型\")"
   ],
   "metadata": {
    "collapsed": false,
    "ExecuteTime": {
     "end_time": "2023-09-17T06:59:39.920009200Z",
     "start_time": "2023-09-17T06:59:35.679999200Z"
    }
   },
   "id": "d9ce8588f2a04494"
  },
  {
   "cell_type": "code",
   "execution_count": 7,
   "outputs": [
    {
     "name": "stdout",
     "output_type": "stream",
     "text": [
      "\n",
      "\n",
      "\u001B[1m> Entering new AgentExecutor chain...\u001B[0m\n",
      "\u001B[32;1m\u001B[1;3mThought: To convert non-numeric types to numbers in the \"data/thing.xlsx\" file, we can use the \"discrete_mapping\" tool. This tool allows us to map non-numeric values to numeric equivalents.\n",
      "\n",
      "Action:\n",
      "```\n",
      "{\n",
      "  \"action\": \"discrete_mapping\",\n",
      "  \"action_input\": {\n",
      "    \"file_path\": \"data/thing.xlsx\"\n",
      "  }\n",
      "}\n",
      "```\u001B[0m\n",
      "Observation: \u001B[33;1m\u001B[1;3mdata/tmp/thing_discrete_mapping_105cf8f7-636a-47f1-a981-6f3e6f485dfb.xlsx\u001B[0m\n",
      "\u001B[32;1m\u001B[1;3m\u001B[0m\n",
      "\n",
      "\u001B[1m> Finished chain.\u001B[0m\n"
     ]
    },
    {
     "data": {
      "text/plain": "'data/tmp/thing_discrete_mapping_105cf8f7-636a-47f1-a981-6f3e6f485dfb.xlsx'"
     },
     "execution_count": 7,
     "metadata": {},
     "output_type": "execute_result"
    }
   ],
   "source": [
    "agent.run(\"将data/thing.xlsx中的非数字类型转化为数字\")"
   ],
   "metadata": {
    "collapsed": false,
    "ExecuteTime": {
     "end_time": "2023-09-17T06:59:43.489211100Z",
     "start_time": "2023-09-17T06:59:39.919011500Z"
    }
   },
   "id": "d24d93cc45d4dd7d"
  },
  {
   "cell_type": "code",
   "execution_count": 8,
   "outputs": [
    {
     "name": "stdout",
     "output_type": "stream",
     "text": [
      "\n",
      "\n",
      "\u001B[1m> Entering new AgentExecutor chain...\u001B[0m\n",
      "\u001B[32;1m\u001B[1;3mAction:\n",
      "```\n",
      "{\n",
      "  \"action\": \"python_repl_ast\",\n",
      "  \"action_input\": \"import pandas as pd\\nimport matplotlib.pyplot as plt\\n\\n# Read the Excel file\\ndf = pd.read_excel('data/thing.xlsx')\\n\\n# Plot the color column\\ndf['颜色'].value_counts().plot(kind='bar')\\nplt.xlabel('颜色')\\nplt.ylabel('数量')\\nplt.title('颜色分布图')\\nplt.show()\"\n",
      "}\n",
      "```\u001B[0m"
     ]
    },
    {
     "name": "stderr",
     "output_type": "stream",
     "text": [
      "C:\\Users\\60925\\.conda\\envs\\hiplotCopilit\\Lib\\site-packages\\IPython\\core\\pylabtools.py:152: UserWarning: Glyph 25968 (\\N{CJK UNIFIED IDEOGRAPH-6570}) missing from current font.\n",
      "  fig.canvas.print_figure(bytes_io, **kw)\n",
      "C:\\Users\\60925\\.conda\\envs\\hiplotCopilit\\Lib\\site-packages\\IPython\\core\\pylabtools.py:152: UserWarning: Glyph 37327 (\\N{CJK UNIFIED IDEOGRAPH-91CF}) missing from current font.\n",
      "  fig.canvas.print_figure(bytes_io, **kw)\n",
      "C:\\Users\\60925\\.conda\\envs\\hiplotCopilit\\Lib\\site-packages\\IPython\\core\\pylabtools.py:152: UserWarning: Glyph 39068 (\\N{CJK UNIFIED IDEOGRAPH-989C}) missing from current font.\n",
      "  fig.canvas.print_figure(bytes_io, **kw)\n",
      "C:\\Users\\60925\\.conda\\envs\\hiplotCopilit\\Lib\\site-packages\\IPython\\core\\pylabtools.py:152: UserWarning: Glyph 33394 (\\N{CJK UNIFIED IDEOGRAPH-8272}) missing from current font.\n",
      "  fig.canvas.print_figure(bytes_io, **kw)\n",
      "C:\\Users\\60925\\.conda\\envs\\hiplotCopilit\\Lib\\site-packages\\IPython\\core\\pylabtools.py:152: UserWarning: Glyph 20998 (\\N{CJK UNIFIED IDEOGRAPH-5206}) missing from current font.\n",
      "  fig.canvas.print_figure(bytes_io, **kw)\n",
      "C:\\Users\\60925\\.conda\\envs\\hiplotCopilit\\Lib\\site-packages\\IPython\\core\\pylabtools.py:152: UserWarning: Glyph 24067 (\\N{CJK UNIFIED IDEOGRAPH-5E03}) missing from current font.\n",
      "  fig.canvas.print_figure(bytes_io, **kw)\n",
      "C:\\Users\\60925\\.conda\\envs\\hiplotCopilit\\Lib\\site-packages\\IPython\\core\\pylabtools.py:152: UserWarning: Glyph 22270 (\\N{CJK UNIFIED IDEOGRAPH-56FE}) missing from current font.\n",
      "  fig.canvas.print_figure(bytes_io, **kw)\n",
      "C:\\Users\\60925\\.conda\\envs\\hiplotCopilit\\Lib\\site-packages\\IPython\\core\\pylabtools.py:152: UserWarning: Glyph 27973 (\\N{CJK UNIFIED IDEOGRAPH-6D45}) missing from current font.\n",
      "  fig.canvas.print_figure(bytes_io, **kw)\n",
      "C:\\Users\\60925\\.conda\\envs\\hiplotCopilit\\Lib\\site-packages\\IPython\\core\\pylabtools.py:152: UserWarning: Glyph 34013 (\\N{CJK UNIFIED IDEOGRAPH-84DD}) missing from current font.\n",
      "  fig.canvas.print_figure(bytes_io, **kw)\n",
      "C:\\Users\\60925\\.conda\\envs\\hiplotCopilit\\Lib\\site-packages\\IPython\\core\\pylabtools.py:152: UserWarning: Glyph 32511 (\\N{CJK UNIFIED IDEOGRAPH-7EFF}) missing from current font.\n",
      "  fig.canvas.print_figure(bytes_io, **kw)\n",
      "C:\\Users\\60925\\.conda\\envs\\hiplotCopilit\\Lib\\site-packages\\IPython\\core\\pylabtools.py:152: UserWarning: Glyph 28145 (\\N{CJK UNIFIED IDEOGRAPH-6DF1}) missing from current font.\n",
      "  fig.canvas.print_figure(bytes_io, **kw)\n",
      "C:\\Users\\60925\\.conda\\envs\\hiplotCopilit\\Lib\\site-packages\\IPython\\core\\pylabtools.py:152: UserWarning: Glyph 32043 (\\N{CJK UNIFIED IDEOGRAPH-7D2B}) missing from current font.\n",
      "  fig.canvas.print_figure(bytes_io, **kw)\n",
      "C:\\Users\\60925\\.conda\\envs\\hiplotCopilit\\Lib\\site-packages\\IPython\\core\\pylabtools.py:152: UserWarning: Glyph 40657 (\\N{CJK UNIFIED IDEOGRAPH-9ED1}) missing from current font.\n",
      "  fig.canvas.print_figure(bytes_io, **kw)\n"
     ]
    },
    {
     "data": {
      "text/plain": "<Figure size 640x480 with 1 Axes>",
      "image/png": "[encoded data removed]"
     },
     "metadata": {},
     "output_type": "display_data"
    },
    {
     "name": "stdout",
     "output_type": "stream",
     "text": [
      "\n",
      "Observation: \u001B[36;1m\u001B[1;3m\u001B[0m\n",
      "Thought:\u001B[32;1m\u001B[1;3mThe previous action executed the code to read the Excel file and plot the distribution of the \"颜色\" (color) column. However, I need to check if the required packages are installed before running the code. Let me do that first.\n",
      "\n",
      "Action:\n",
      "```\n",
      "{\n",
      "  \"action\": \"python_repl_ast\",\n",
      "  \"action_input\": \"import os\\n\\n# Check if pandas is installed\\npandas_installed = 'pandas' in os.popen('pip freeze').read()\\n\\n# Check if matplotlib is installed\\nmatplotlib_installed = 'matplotlib' in os.popen('pip freeze').read()\\n\\n(pandas_installed, matplotlib_installed)\"\n",
      "}\n",
      "```\n",
      "\n",
      "\u001B[0m\n",
      "Observation: \u001B[36;1m\u001B[1;3m(True, True)\u001B[0m\n",
      "Thought:"
     ]
    },
    {
     "name": "stderr",
     "output_type": "stream",
     "text": [
      "C:\\Users\\60925\\.conda\\envs\\hiplotCopilit\\Lib\\site-packages\\IPython\\core\\pylabtools.py:152: UserWarning: Glyph 25968 (\\N{CJK UNIFIED IDEOGRAPH-6570}) missing from current font.\n",
      "  fig.canvas.print_figure(bytes_io, **kw)\n",
      "C:\\Users\\60925\\.conda\\envs\\hiplotCopilit\\Lib\\site-packages\\IPython\\core\\pylabtools.py:152: UserWarning: Glyph 37327 (\\N{CJK UNIFIED IDEOGRAPH-91CF}) missing from current font.\n",
      "  fig.canvas.print_figure(bytes_io, **kw)\n",
      "C:\\Users\\60925\\.conda\\envs\\hiplotCopilit\\Lib\\site-packages\\IPython\\core\\pylabtools.py:152: UserWarning: Glyph 39068 (\\N{CJK UNIFIED IDEOGRAPH-989C}) missing from current font.\n",
      "  fig.canvas.print_figure(bytes_io, **kw)\n",
      "C:\\Users\\60925\\.conda\\envs\\hiplotCopilit\\Lib\\site-packages\\IPython\\core\\pylabtools.py:152: UserWarning: Glyph 33394 (\\N{CJK UNIFIED IDEOGRAPH-8272}) missing from current font.\n",
      "  fig.canvas.print_figure(bytes_io, **kw)\n",
      "C:\\Users\\60925\\.conda\\envs\\hiplotCopilit\\Lib\\site-packages\\IPython\\core\\pylabtools.py:152: UserWarning: Glyph 20998 (\\N{CJK UNIFIED IDEOGRAPH-5206}) missing from current font.\n",
      "  fig.canvas.print_figure(bytes_io, **kw)\n",
      "C:\\Users\\60925\\.conda\\envs\\hiplotCopilit\\Lib\\site-packages\\IPython\\core\\pylabtools.py:152: UserWarning: Glyph 24067 (\\N{CJK UNIFIED IDEOGRAPH-5E03}) missing from current font.\n",
      "  fig.canvas.print_figure(bytes_io, **kw)\n",
      "C:\\Users\\60925\\.conda\\envs\\hiplotCopilit\\Lib\\site-packages\\IPython\\core\\pylabtools.py:152: UserWarning: Glyph 22270 (\\N{CJK UNIFIED IDEOGRAPH-56FE}) missing from current font.\n",
      "  fig.canvas.print_figure(bytes_io, **kw)\n",
      "C:\\Users\\60925\\.conda\\envs\\hiplotCopilit\\Lib\\site-packages\\IPython\\core\\pylabtools.py:152: UserWarning: Glyph 27973 (\\N{CJK UNIFIED IDEOGRAPH-6D45}) missing from current font.\n",
      "  fig.canvas.print_figure(bytes_io, **kw)\n",
      "C:\\Users\\60925\\.conda\\envs\\hiplotCopilit\\Lib\\site-packages\\IPython\\core\\pylabtools.py:152: UserWarning: Glyph 34013 (\\N{CJK UNIFIED IDEOGRAPH-84DD}) missing from current font.\n",
      "  fig.canvas.print_figure(bytes_io, **kw)\n",
      "C:\\Users\\60925\\.conda\\envs\\hiplotCopilit\\Lib\\site-packages\\IPython\\core\\pylabtools.py:152: UserWarning: Glyph 32511 (\\N{CJK UNIFIED IDEOGRAPH-7EFF}) missing from current font.\n",
      "  fig.canvas.print_figure(bytes_io, **kw)\n",
      "C:\\Users\\60925\\.conda\\envs\\hiplotCopilit\\Lib\\site-packages\\IPython\\core\\pylabtools.py:152: UserWarning: Glyph 28145 (\\N{CJK UNIFIED IDEOGRAPH-6DF1}) missing from current font.\n",
      "  fig.canvas.print_figure(bytes_io, **kw)\n",
      "C:\\Users\\60925\\.conda\\envs\\hiplotCopilit\\Lib\\site-packages\\IPython\\core\\pylabtools.py:152: UserWarning: Glyph 32043 (\\N{CJK UNIFIED IDEOGRAPH-7D2B}) missing from current font.\n",
      "  fig.canvas.print_figure(bytes_io, **kw)\n",
      "C:\\Users\\60925\\.conda\\envs\\hiplotCopilit\\Lib\\site-packages\\IPython\\core\\pylabtools.py:152: UserWarning: Glyph 40657 (\\N{CJK UNIFIED IDEOGRAPH-9ED1}) missing from current font.\n",
      "  fig.canvas.print_figure(bytes_io, **kw)\n"
     ]
    },
    {
     "data": {
      "text/plain": "<Figure size 640x480 with 1 Axes>",
      "image/png": "[encoded data removed]"
     },
     "metadata": {},
     "output_type": "display_data"
    },
    {
     "name": "stdout",
     "output_type": "stream",
     "text": [
      "\u001B[32;1m\u001B[1;3mThe required packages, pandas and matplotlib, are already installed. Now I can proceed to execute the code to plot the distribution of the \"颜色\" (color) column in the Excel file.\n",
      "\n",
      "Action:\n",
      "```\n",
      "{\n",
      "  \"action\": \"python_repl_ast\",\n",
      "  \"action_input\": \"import pandas as pd\\nimport matplotlib.pyplot as plt\\n\\n# Read the Excel file\\ndf = pd.read_excel('data/thing.xlsx')\\n\\n# Plot the color column\\ndf['颜色'].value_counts().plot(kind='bar')\\nplt.xlabel('颜色')\\nplt.ylabel('数量')\\nplt.title('颜色分布图')\\nplt.show()\"\n",
      "}\n",
      "```\u001B[0m\n",
      "Observation: \u001B[36;1m\u001B[1;3m\u001B[0m\n",
      "Thought:\u001B[32;1m\u001B[1;3mThe code has been executed successfully and the distribution of the \"颜色\" (color) column in the Excel file has been plotted. You should now see the bar chart showing the distribution of colors.\u001B[0m\n",
      "\n",
      "\u001B[1m> Finished chain.\u001B[0m\n"
     ]
    },
    {
     "data": {
      "text/plain": "'The code has been executed successfully and the distribution of the \"颜色\" (color) column in the Excel file has been plotted. You should now see the bar chart showing the distribution of colors.'"
     },
     "execution_count": 8,
     "metadata": {},
     "output_type": "execute_result"
    }
   ],
   "source": [
    "agent.run(\"给data/thing.xlsx的颜色列画图 (if you need to install new packages, run os.system('pip install package_name') )\")"
   ],
   "metadata": {
    "collapsed": false,
    "ExecuteTime": {
     "end_time": "2023-09-17T07:00:07.463745Z",
     "start_time": "2023-09-17T06:59:43.488209Z"
    }
   },
   "id": "ee8c1ce932cfc3a1"
  },
  {
   "cell_type": "code",
   "execution_count": null,
   "outputs": [],
   "source": [],
   "metadata": {
    "collapsed": false
   },
   "id": "f85c211c62e9f52e"
  }
 ],
 "metadata": {
  "kernelspec": {
   "display_name": "Python 3 (ipykernel)",
   "language": "python",
   "name": "python3"
  },
  "language_info": {
   "codemirror_mode": {
    "name": "ipython",
    "version": 3
   },
   "file_extension": ".py",
   "mimetype": "text/x-python",
   "name": "python",
   "nbconvert_exporter": "python",
   "pygments_lexer": "ipython3",
   "version": "3.9.13"
  }
 },
 "nbformat": 4,
 "nbformat_minor": 5
}
