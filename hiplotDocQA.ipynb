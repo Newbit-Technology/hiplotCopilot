{
 "cells": [
  {
   "cell_type": "code",
   "execution_count": 1,
   "id": "initial_id",
   "metadata": {
    "collapsed": true,
    "ExecuteTime": {
     "end_time": "2023-11-13T12:51:34.756517400Z",
     "start_time": "2023-11-13T12:51:34.738201100Z"
    }
   },
   "outputs": [],
   "source": [
    "query = \"什么是Hiplot\""
   ]
  },
  {
   "cell_type": "code",
   "execution_count": 2,
   "outputs": [
    {
     "name": "stdout",
     "output_type": "stream",
     "text": [
      "\u001B[32mLoading embedding model......\n",
      "\u001B[0m\n",
      "\u001B[32mLoading embedding model successful!\n",
      "\u001B[0m\n"
     ]
    }
   ],
   "source": [
    "from common.hiEmbedding import embedding_pipeline\n",
    "\n",
    "embedding = embedding_pipeline(query).get()"
   ],
   "metadata": {
    "collapsed": false,
    "ExecuteTime": {
     "end_time": "2023-11-13T12:51:42.609722700Z",
     "start_time": "2023-11-13T12:51:34.749009Z"
    }
   },
   "id": "806ef6bf27a5"
  },
  {
   "cell_type": "code",
   "execution_count": 3,
   "outputs": [
    {
     "name": "stdout",
     "output_type": "stream",
     "text": [
      "\u001B[32mConnecting milvus......\n",
      "\u001B[0m\n",
      "\u001B[32mMilvus connect successful!\n",
      "\u001B[0m\n",
      "\u001B[32mBuilding hiplot_doc collection and index......\n",
      "\u001B[0m\n",
      "\u001B[32mCollection and index build successful!\n",
      "\u001B[0m\n"
     ]
    }
   ],
   "source": [
    "from common.hiMilvus import hiplot_doc_collection\n",
    "from langchain.schema.document import Document\n",
    "\n",
    "search_params = {\"metric_type\": \"L2\", \"offset\": 0}\n",
    "\n",
    "result = hiplot_doc_collection.search(\n",
    "    data=embedding,\n",
    "    anns_field=\"embeddings\",\n",
    "    param=search_params,\n",
    "    limit=10,\n",
    "    output_fields=[\"content\"]\n",
    ")\n",
    "documents = []\n",
    "for hits in result:\n",
    "    for hit in hits:\n",
    "        content = hit.entity.get(\"content\")\n",
    "        doc = Document(page_content=content)\n",
    "        documents.append(doc)"
   ],
   "metadata": {
    "collapsed": false,
    "ExecuteTime": {
     "end_time": "2023-11-13T12:51:46.388431Z",
     "start_time": "2023-11-13T12:51:42.615045300Z"
    }
   },
   "id": "42a29061612a7a5a"
  },
  {
   "cell_type": "code",
   "execution_count": 4,
   "outputs": [],
   "source": [
    "from langchain.chains.question_answering import load_qa_chain\n",
    "from llm.chatOpenAI import chat_openai\n",
    "\n",
    "llm = chat_openai(0.5)\n",
    "chain = load_qa_chain(llm, chain_type=\"stuff\")"
   ],
   "metadata": {
    "collapsed": false,
    "ExecuteTime": {
     "end_time": "2023-11-13T12:51:46.429549600Z",
     "start_time": "2023-11-13T12:51:46.391159500Z"
    }
   },
   "id": "ca76790926070f02"
  },
  {
   "cell_type": "code",
   "execution_count": 5,
   "outputs": [
    {
     "data": {
      "text/plain": "'Hiplot是一个开源的数据可视化工具，旨在满足临床医学学生和科研工作者的科研数据可视化需求。它提供了基础可视化功能，包括绘图示例、相关性热图、免疫浸润分析等。Hiplot还支持上传、下载、复制、移动、删除、在线预览和编辑等操作，可以方便地管理和处理数据。此外，Hiplot还提供了WGCNA分析任务，可以对基因进行初步筛选和分析。它还支持多种可视化图形和应用，包括Shiny和文献图表的重现和再分析。Hiplot是一个功能丰富且易于使用的数据可视化工具。'"
     },
     "execution_count": 5,
     "metadata": {},
     "output_type": "execute_result"
    }
   ],
   "source": [
    "chain.run(input_documents=documents, question=query)"
   ],
   "metadata": {
    "collapsed": false,
    "ExecuteTime": {
     "end_time": "2023-11-13T12:52:28.355140100Z",
     "start_time": "2023-11-13T12:51:46.426205300Z"
    }
   },
   "id": "90c4428d71deaf5a"
  },
  {
   "cell_type": "code",
   "execution_count": null,
   "outputs": [],
   "source": [],
   "metadata": {
    "collapsed": false
   },
   "id": "5d5e013942a3024b"
  }
 ],
 "metadata": {
  "kernelspec": {
   "display_name": "Python 3",
   "language": "python",
   "name": "python3"
  },
  "language_info": {
   "codemirror_mode": {
    "name": "ipython",
    "version": 2
   },
   "file_extension": ".py",
   "mimetype": "text/x-python",
   "name": "python",
   "nbconvert_exporter": "python",
   "pygments_lexer": "ipython2",
   "version": "2.7.6"
  }
 },
 "nbformat": 4,
 "nbformat_minor": 5
}
