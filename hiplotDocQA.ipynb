{
 "cells": [
  {
   "cell_type": "code",
   "execution_count": 14,
   "id": "initial_id",
   "metadata": {
    "collapsed": true,
    "ExecuteTime": {
     "end_time": "2023-11-13T14:35:18.241621800Z",
     "start_time": "2023-11-13T14:35:11.517123100Z"
    }
   },
   "outputs": [
    {
     "data": {
      "text/plain": "'Hiplot是一个数据可视化工具，用于展示和分析科研数据。它提供了多种可视化功能，包括散点图、热图、词云图等，可以帮助用户更好地理解和解释数据。Hiplot还支持数据的上传、下载、复制、移动、删除等操作，方便用户对数据进行管理和处理。'"
     },
     "execution_count": 14,
     "metadata": {},
     "output_type": "execute_result"
    }
   ],
   "source": [
    "from qa_pipeline import hiplot_doc_qa_pipeline\n",
    "\n",
    "hiplot_doc_qa_pipeline(\"Hiplot是什么？\").get()[0]"
   ]
  },
  {
   "cell_type": "code",
   "execution_count": null,
   "outputs": [],
   "source": [],
   "metadata": {
    "collapsed": false
   },
   "id": "60d9b2d20611ef88"
  }
 ],
 "metadata": {
  "kernelspec": {
   "display_name": "Python 3",
   "language": "python",
   "name": "python3"
  },
  "language_info": {
   "codemirror_mode": {
    "name": "ipython",
    "version": 2
   },
   "file_extension": ".py",
   "mimetype": "text/x-python",
   "name": "python",
   "nbconvert_exporter": "python",
   "pygments_lexer": "ipython2",
   "version": "2.7.6"
  }
 },
 "nbformat": 4,
 "nbformat_minor": 5
}
