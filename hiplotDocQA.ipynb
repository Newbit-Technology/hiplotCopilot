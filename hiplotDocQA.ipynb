{
 "cells": [
  {
   "cell_type": "code",
   "execution_count": 1,
   "id": "initial_id",
   "metadata": {
    "collapsed": true,
    "ExecuteTime": {
     "end_time": "2023-11-13T14:38:59.431198200Z",
     "start_time": "2023-11-13T14:38:45.128754500Z"
    }
   },
   "outputs": [
    {
     "name": "stdout",
     "output_type": "stream",
     "text": [
      "\u001B[32mLoading embedding model......\n",
      "\u001B[0m\u001B[32mLoading embedding model successful!\n",
      "\u001B[0m\u001B[32mConnecting milvus......\n",
      "\u001B[0m\u001B[32mMilvus connect successful!\n",
      "\u001B[0m\u001B[32mBuilding hiplot_doc collection and index......\n",
      "\u001B[0m\u001B[32mCollection and index build successful!\n",
      "\u001B[0m"
     ]
    }
   ],
   "source": [
    "from pipeline.qa import hiplot_doc_qa_pipeline"
   ]
  },
  {
   "cell_type": "code",
   "execution_count": 2,
   "outputs": [
    {
     "data": {
      "text/plain": "'Hiplot是一个数据可视化工具，用于分析和展示科研数据。它提供了多种可视化功能，包括散点图、柱状图、热图、词云图等，可以帮助用户更直观地理解数据的分布和关系。Hiplot还支持数据的上传、下载、复制、移动、删除等操作，方便用户对数据进行管理和处理。'"
     },
     "execution_count": 2,
     "metadata": {},
     "output_type": "execute_result"
    }
   ],
   "source": [
    "hiplot_doc_qa_pipeline(\"Hiplot是什么？\").get()[0]"
   ],
   "metadata": {
    "collapsed": false,
    "ExecuteTime": {
     "end_time": "2023-11-13T14:39:10.693043500Z",
     "start_time": "2023-11-13T14:38:59.432834Z"
    }
   },
   "id": "60d9b2d20611ef88"
  },
  {
   "cell_type": "code",
   "execution_count": 3,
   "outputs": [
    {
     "data": {
      "text/plain": "'Hiplot目前支持以下绘图工具：\\n- 相关性热图\\n- 免疫浸润分析\\n- 散点图\\n- 三维散点图\\n- 染色体热图\\n- 突变全景图\\n- Pathview\\n- 桑基图\\n\\n这些绘图工具可以用于不同的数据分析和可视化需求。'"
     },
     "execution_count": 3,
     "metadata": {},
     "output_type": "execute_result"
    }
   ],
   "source": [
    "hiplot_doc_qa_pipeline(\"Hiplot目前支持哪些绘图工具\").get()[0]"
   ],
   "metadata": {
    "collapsed": false,
    "ExecuteTime": {
     "end_time": "2023-11-13T14:39:27.582324800Z",
     "start_time": "2023-11-13T14:39:10.694045100Z"
    }
   },
   "id": "d83abe608876f1f2"
  },
  {
   "cell_type": "code",
   "execution_count": null,
   "outputs": [],
   "source": [],
   "metadata": {
    "collapsed": false
   },
   "id": "f6551217b09f111c"
  }
 ],
 "metadata": {
  "kernelspec": {
   "display_name": "Python 3",
   "language": "python",
   "name": "python3"
  },
  "language_info": {
   "codemirror_mode": {
    "name": "ipython",
    "version": 2
   },
   "file_extension": ".py",
   "mimetype": "text/x-python",
   "name": "python",
   "nbconvert_exporter": "python",
   "pygments_lexer": "ipython2",
   "version": "2.7.6"
  }
 },
 "nbformat": 4,
 "nbformat_minor": 5
}
